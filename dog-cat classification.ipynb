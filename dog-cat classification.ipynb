{
 "cells": [
  {
   "cell_type": "code",
   "execution_count": 25,
   "id": "4dffa07f-3048-4554-b05d-eebe8efc22a8",
   "metadata": {},
   "outputs": [],
   "source": [
    "# Cell 1: Import Libraries\n",
    "import cv2\n",
    "import os\n",
    "import numpy as np\n",
    "import tensorflow as tf\n",
    "from tensorflow.keras.models import Sequential\n",
    "from tensorflow.keras.layers import Dense, Conv2D, MaxPooling2D, Flatten, Dropout\n",
    "from tensorflow.keras.preprocessing.image import ImageDataGenerator\n",
    "from tensorflow.keras.models import load_model\n"
   ]
  },
  {
   "cell_type": "code",
   "execution_count": 21,
   "id": "313ea59a-5473-4bd3-91fd-b056d49fd37e",
   "metadata": {},
   "outputs": [],
   "source": [
    "# Cell 2: Paths to Training and Test Sets\n",
    "train_path = r\"E:\\dog-cat\\training_set\\training_set\"\n",
    "test_path = r\"E:\\dog-cat\\test_set\\test_set\"\n"
   ]
  },
  {
   "cell_type": "code",
   "execution_count": 5,
   "id": "487e1dbf-7277-407a-ad75-ab294c393c08",
   "metadata": {},
   "outputs": [
    {
     "name": "stdout",
     "output_type": "stream",
     "text": [
      "Found 8005 images belonging to 2 classes.\n",
      "Found 2023 images belonging to 2 classes.\n"
     ]
    }
   ],
   "source": [
    "# Cell 3: Data Generators with Preprocessing\n",
    "train_datagen = ImageDataGenerator(rescale=1.0/255.0)\n",
    "test_datagen = ImageDataGenerator(rescale=1.0/255.0)\n",
    "\n",
    "train_generator = train_datagen.flow_from_directory(\n",
    "    train_path, target_size=(224, 224), batch_size=32, class_mode='categorical', shuffle=True\n",
    ")\n",
    "test_generator = test_datagen.flow_from_directory(\n",
    "    test_path, target_size=(224, 224), batch_size=32, class_mode='categorical', shuffle=False\n",
    ")\n",
    "\n",
    "# Number of classes\n",
    "NO_CLASSES = len(train_generator.class_indices)\n"
   ]
  },
  {
   "cell_type": "code",
   "execution_count": 7,
   "id": "d1c25065-8a9c-4e04-9022-719b8dc0048a",
   "metadata": {},
   "outputs": [
    {
     "name": "stderr",
     "output_type": "stream",
     "text": [
      "C:\\Users\\SHYAM\\AppData\\Roaming\\Python\\Python312\\site-packages\\keras\\src\\layers\\convolutional\\base_conv.py:107: UserWarning: Do not pass an `input_shape`/`input_dim` argument to a layer. When using Sequential models, prefer using an `Input(shape)` object as the first layer in the model instead.\n",
      "  super().__init__(activity_regularizer=activity_regularizer, **kwargs)\n"
     ]
    }
   ],
   "source": [
    "# Cell 4: Define the CNN Model\n",
    "model = Sequential([\n",
    "    Conv2D(32, (3, 3), activation='relu', input_shape=(224, 224, 3)),\n",
    "    MaxPooling2D((2, 2)),\n",
    "    Conv2D(64, (3, 3), activation='relu'),\n",
    "    MaxPooling2D((2, 2)),\n",
    "    Conv2D(128, (3, 3), activation='relu'),\n",
    "    MaxPooling2D((2, 2)),\n",
    "    Conv2D(128, (3, 3), activation='relu'),\n",
    "    MaxPooling2D((2, 2)),\n",
    "    Flatten(),\n",
    "    Dense(512, activation='relu'),\n",
    "    Dropout(0.5),\n",
    "    Dense(NO_CLASSES, activation='softmax')\n",
    "])\n"
   ]
  },
  {
   "cell_type": "code",
   "execution_count": 9,
   "id": "c3aa35d8-ad85-4ec3-8f23-7601532a06ea",
   "metadata": {},
   "outputs": [],
   "source": [
    "# Cell 5: Compile the Model\n",
    "model.compile(optimizer='adam', loss='categorical_crossentropy', metrics=['accuracy'])\n"
   ]
  },
  {
   "cell_type": "code",
   "execution_count": 11,
   "id": "3cce1e44-22cf-4437-80ee-0e33384c38f4",
   "metadata": {},
   "outputs": [
    {
     "name": "stdout",
     "output_type": "stream",
     "text": [
      "Epoch 1/10\n"
     ]
    },
    {
     "name": "stderr",
     "output_type": "stream",
     "text": [
      "C:\\Users\\SHYAM\\AppData\\Roaming\\Python\\Python312\\site-packages\\keras\\src\\trainers\\data_adapters\\py_dataset_adapter.py:121: UserWarning: Your `PyDataset` class should call `super().__init__(**kwargs)` in its constructor. `**kwargs` can include `workers`, `use_multiprocessing`, `max_queue_size`. Do not pass these arguments to `fit()`, as they will be ignored.\n",
      "  self._warn_if_super_not_called()\n"
     ]
    },
    {
     "name": "stdout",
     "output_type": "stream",
     "text": [
      "\u001b[1m251/251\u001b[0m \u001b[32m━━━━━━━━━━━━━━━━━━━━\u001b[0m\u001b[37m\u001b[0m \u001b[1m295s\u001b[0m 1s/step - accuracy: 0.4975 - loss: 0.7314 - val_accuracy: 0.5907 - val_loss: 0.6830\n",
      "Epoch 2/10\n",
      "\u001b[1m251/251\u001b[0m \u001b[32m━━━━━━━━━━━━━━━━━━━━\u001b[0m\u001b[37m\u001b[0m \u001b[1m227s\u001b[0m 903ms/step - accuracy: 0.5919 - loss: 0.6642 - val_accuracy: 0.6678 - val_loss: 0.5986\n",
      "Epoch 3/10\n",
      "\u001b[1m251/251\u001b[0m \u001b[32m━━━━━━━━━━━━━━━━━━━━\u001b[0m\u001b[37m\u001b[0m \u001b[1m246s\u001b[0m 976ms/step - accuracy: 0.6647 - loss: 0.6078 - val_accuracy: 0.7148 - val_loss: 0.5748\n",
      "Epoch 4/10\n",
      "\u001b[1m251/251\u001b[0m \u001b[32m━━━━━━━━━━━━━━━━━━━━\u001b[0m\u001b[37m\u001b[0m \u001b[1m218s\u001b[0m 866ms/step - accuracy: 0.7118 - loss: 0.5577 - val_accuracy: 0.7227 - val_loss: 0.5409\n",
      "Epoch 5/10\n",
      "\u001b[1m251/251\u001b[0m \u001b[32m━━━━━━━━━━━━━━━━━━━━\u001b[0m\u001b[37m\u001b[0m \u001b[1m218s\u001b[0m 867ms/step - accuracy: 0.7473 - loss: 0.5124 - val_accuracy: 0.7331 - val_loss: 0.5282\n",
      "Epoch 6/10\n",
      "\u001b[1m251/251\u001b[0m \u001b[32m━━━━━━━━━━━━━━━━━━━━\u001b[0m\u001b[37m\u001b[0m \u001b[1m228s\u001b[0m 906ms/step - accuracy: 0.7758 - loss: 0.4658 - val_accuracy: 0.7603 - val_loss: 0.5017\n",
      "Epoch 7/10\n",
      "\u001b[1m251/251\u001b[0m \u001b[32m━━━━━━━━━━━━━━━━━━━━\u001b[0m\u001b[37m\u001b[0m \u001b[1m220s\u001b[0m 871ms/step - accuracy: 0.8139 - loss: 0.4063 - val_accuracy: 0.7672 - val_loss: 0.5214\n",
      "Epoch 8/10\n",
      "\u001b[1m251/251\u001b[0m \u001b[32m━━━━━━━━━━━━━━━━━━━━\u001b[0m\u001b[37m\u001b[0m \u001b[1m222s\u001b[0m 883ms/step - accuracy: 0.8399 - loss: 0.3413 - val_accuracy: 0.7781 - val_loss: 0.5286\n",
      "Epoch 9/10\n",
      "\u001b[1m251/251\u001b[0m \u001b[32m━━━━━━━━━━━━━━━━━━━━\u001b[0m\u001b[37m\u001b[0m \u001b[1m228s\u001b[0m 905ms/step - accuracy: 0.8851 - loss: 0.2660 - val_accuracy: 0.7766 - val_loss: 0.6341\n",
      "Epoch 10/10\n",
      "\u001b[1m251/251\u001b[0m \u001b[32m━━━━━━━━━━━━━━━━━━━━\u001b[0m\u001b[37m\u001b[0m \u001b[1m275s\u001b[0m 1s/step - accuracy: 0.9177 - loss: 0.1996 - val_accuracy: 0.7716 - val_loss: 0.6843\n"
     ]
    },
    {
     "data": {
      "text/plain": [
       "<keras.src.callbacks.history.History at 0x1d4cfd83680>"
      ]
     },
     "execution_count": 11,
     "metadata": {},
     "output_type": "execute_result"
    }
   ],
   "source": [
    "# Cell 6: Train the Model\n",
    "model.fit(train_generator, epochs=10, validation_data=test_generator, verbose=1)\n"
   ]
  },
  {
   "cell_type": "code",
   "execution_count": 13,
   "id": "7ef4bf82-4009-4952-a732-9e1558cadbd6",
   "metadata": {},
   "outputs": [
    {
     "name": "stderr",
     "output_type": "stream",
     "text": [
      "WARNING:absl:You are saving your model as an HDF5 file via `model.save()` or `keras.saving.save_model(model)`. This file format is considered legacy. We recommend using instead the native Keras format, e.g. `model.save('my_model.keras')` or `keras.saving.save_model(model, 'my_model.keras')`. \n"
     ]
    },
    {
     "name": "stdout",
     "output_type": "stream",
     "text": [
      "Model saved as cat_dog_classifier_custom.h5\n"
     ]
    }
   ],
   "source": [
    "# Cell 7: Save the Model\n",
    "model.save(\"cat_dog_classifier_custom.h5\")\n",
    "print(\"Model saved as cat_dog_classifier_custom.h5\")\n"
   ]
  },
  {
   "cell_type": "code",
   "execution_count": 27,
   "id": "ecfb98d6-9a47-4a56-a54c-b00b5ff48481",
   "metadata": {},
   "outputs": [
    {
     "name": "stderr",
     "output_type": "stream",
     "text": [
      "WARNING:absl:Compiled the loaded model, but the compiled metrics have yet to be built. `model.compile_metrics` will be empty until you train or evaluate the model.\n"
     ]
    },
    {
     "name": "stdout",
     "output_type": "stream",
     "text": [
      "\u001b[1m1/1\u001b[0m \u001b[32m━━━━━━━━━━━━━━━━━━━━\u001b[0m\u001b[37m\u001b[0m \u001b[1m1s\u001b[0m 681ms/step\n",
      "Predicted: Cat\n"
     ]
    }
   ],
   "source": [
    "#Cell 8: Make Prediction for Cat\n",
    "loaded_model = load_model(\"cat_dog_classifier.h5\")\n",
    "class_dictionary = {0: 'Cat', 1: 'Dog'}\n",
    "img = cv2.imread(r\"E:\\dog-cat\\test_set\\test_set\\cats\\cat.4001.jpg\")\n",
    "img_resized = cv2.resize(img, (224, 224))\n",
    "img_array = np.expand_dims(img_resized, axis=0)\n",
    "img_array = tf.keras.applications.vgg16.preprocess_input(img_array)\n",
    "predicted_prob = loaded_model.predict(img_array)\n",
    "predicted_class = predicted_prob[0].argmax()\n",
    "print(f\"Predicted: {class_dictionary[predicted_class]}\")"
   ]
  },
  {
   "cell_type": "code",
   "execution_count": 29,
   "id": "d1235c16-8820-43a7-934d-52d3ee72654c",
   "metadata": {},
   "outputs": [
    {
     "name": "stderr",
     "output_type": "stream",
     "text": [
      "WARNING:absl:Compiled the loaded model, but the compiled metrics have yet to be built. `model.compile_metrics` will be empty until you train or evaluate the model.\n"
     ]
    },
    {
     "name": "stdout",
     "output_type": "stream",
     "text": [
      "\u001b[1m1/1\u001b[0m \u001b[32m━━━━━━━━━━━━━━━━━━━━\u001b[0m\u001b[37m\u001b[0m \u001b[1m1s\u001b[0m 604ms/step\n",
      "Predicted: Dog\n"
     ]
    }
   ],
   "source": [
    "#Cell 8: Make Prediction for Dog\n",
    "loaded_model = load_model(\"cat_dog_classifier.h5\")\n",
    "class_dictionary = {0: 'Cat', 1: 'Dog'}\n",
    "img = cv2.imread(r\"E:\\dog-cat\\test_set\\test_set\\dogs\\dog.4002.jpg\")\n",
    "img_resized = cv2.resize(img, (224, 224))\n",
    "img_array = np.expand_dims(img_resized, axis=0)\n",
    "img_array = tf.keras.applications.vgg16.preprocess_input(img_array)\n",
    "predicted_prob = loaded_model.predict(img_array)\n",
    "predicted_class = predicted_prob[0].argmax()\n",
    "print(f\"Predicted: {class_dictionary[predicted_class]}\")"
   ]
  },
  {
   "cell_type": "code",
   "execution_count": null,
   "id": "d01bdb1d-3d5c-46dd-a6e7-fca461e70e8b",
   "metadata": {},
   "outputs": [],
   "source": []
  }
 ],
 "metadata": {
  "kernelspec": {
   "display_name": "Python 3 (ipykernel)",
   "language": "python",
   "name": "python3"
  },
  "language_info": {
   "codemirror_mode": {
    "name": "ipython",
    "version": 3
   },
   "file_extension": ".py",
   "mimetype": "text/x-python",
   "name": "python",
   "nbconvert_exporter": "python",
   "pygments_lexer": "ipython3",
   "version": "3.12.4"
  }
 },
 "nbformat": 4,
 "nbformat_minor": 5
}
